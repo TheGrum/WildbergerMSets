{
 "cells": [
  {
   "attachments": {},
   "cell_type": "markdown",
   "metadata": {},
   "source": [
    "Based on Norman J Wildberger's 'A multiset approach to arithmetic', Math Foundations videos 227,228, and 229."
   ]
  },
  {
   "cell_type": "code",
   "execution_count": 1,
   "metadata": {},
   "outputs": [],
   "source": [
    "from MSetMulti import *"
   ]
  },
  {
   "attachments": {},
   "cell_type": "markdown",
   "metadata": {},
   "source": [
    "An empty MultiSet or MSet is MSet(). MSet's can be nested arbitrarily."
   ]
  },
  {
   "cell_type": "code",
   "execution_count": 2,
   "metadata": {},
   "outputs": [
    {
     "name": "stdout",
     "output_type": "stream",
     "text": [
      "[]\n",
      "[[]]\n",
      "[[[]]]\n",
      "[[[][][]]]\n"
     ]
    }
   ],
   "source": [
    "print(MSet())\n",
    "print(MSet(MSet()))\n",
    "print(MSet(MSet(MSet())))\n",
    "print(MSet(MSet([MSet(),MSet(),MSet()])))"
   ]
  },
  {
   "attachments": {},
   "cell_type": "markdown",
   "metadata": {},
   "source": [
    "A utility function MS() is provided which converts textual descriptions of MultiSets into a nested hierarchy of MSets(). Another function C() presents the MSets in a more compact form. Several formatting functions are available that present different views of the same data.\n",
    "\n",
    "A natural number is a pure MSet() containing that number of empty MSets and this is reflected in the C() and FN() formats."
   ]
  },
  {
   "cell_type": "code",
   "execution_count": 3,
   "metadata": {},
   "outputs": [
    {
     "name": "stdout",
     "output_type": "stream",
     "text": [
      "[[][[]][[[]]][[][][]]]\n",
      "[0 1 [1] 3]\n",
      "[0[0][[0]][000]]\n",
      "[0 1 [1] 3]\n"
     ]
    }
   ],
   "source": [
    "a = MS(\"[[][[]][[[]]][[][][]]]\")\n",
    "print(a)\n",
    "print(C(a))\n",
    "print(FZ(a))\n",
    "print(FN(a))"
   ]
  },
  {
   "attachments": {},
   "cell_type": "markdown",
   "metadata": {},
   "source": [
    "MSets support basic arithmetic, and the format supports specifying MSets using simply integer counting via 'x'. Note that this is not direct multiplication - 3x0 is 0 0 0, not 0.\n",
    "\n",
    "Addition of MSets is accomplished by combining their contents. Multiplication is cross-wise addition of all elements. Caret/Exponentiation if cross-wise multiplication of all elements."
   ]
  },
  {
   "cell_type": "code",
   "execution_count": 4,
   "metadata": {},
   "outputs": [
    {
     "name": "stdout",
     "output_type": "stream",
     "text": [
      "[[][[]][[][]][[][][]]] [[][[]][[][]][[][][]]]\n",
      "[0 1 2 3] [0 1 2 3]\n",
      "[[][[]][[][]][[][][]][][[]][[][]][[][][]]]\n",
      "[2x0 2x1 2x2 2x3]\n",
      "[[][[]][[][]][[][][]][[]][[][]][[][][]][[][][][]][[][]][[][][]][[][][][]][[][][][][]][[][][]][[][][][]][[][][][][]][[][][][][][]]]\n",
      "[0[0][00][000][0][00][000][0000][00][000][0000][00000][000][0000][00000][000000]]\n",
      "[0 1 2 3 1 2 3 4 2 3 4 5 3 4 5 6]\n",
      "[0 2x1 3x2 4x3 3x4 2x5 6]\n",
      "[[][][][][][[]][[][]][[][][]][][[][]][[][][][]][[][][][][][]][][[][][]][[][][][][][]][[][][][][][][][][]]]\n",
      "[00000[0][00][000]0[00][0000][000000]0[000][000000][000000000]]\n",
      "[0 0 0 0 0 1 2 3 0 2 4 6 0 3 6 9]\n",
      "[7x0 1 2x2 2x3 4 2x6 9]\n"
     ]
    }
   ],
   "source": [
    "a = MS(\"[[][0][0 0][0 0 0]]\")\n",
    "b = MS(\"[[][0][2x0][3x0]]\")\n",
    "print(a,b)\n",
    "print(C(a),C(b))\n",
    "print(a+b)\n",
    "print(C(a+b))\n",
    "print(a*b)\n",
    "print(FZ(a*b))\n",
    "print(FN(a*b))\n",
    "print(C(a*b))\n",
    "print(a^b)\n",
    "print(FZ(a^b))\n",
    "print(FN(a^b))\n",
    "print(C(a^b))"
   ]
  },
  {
   "attachments": {},
   "cell_type": "markdown",
   "metadata": {},
   "source": [
    "Alpha is defined as an element in the parser, and can be defined as a variable:"
   ]
  },
  {
   "cell_type": "code",
   "execution_count": 5,
   "metadata": {},
   "outputs": [
    {
     "name": "stdout",
     "output_type": "stream",
     "text": [
      "[[[]][[]]] [[[]][[]]] [[[]][[]][[]]]\n",
      "[1 1] [1 1] [1 1 1]\n",
      "[[[][]]]\n",
      "[2]\n",
      "α^3=[3]\n"
     ]
    }
   ],
   "source": [
    "α = MSet(MSet(MSet()))\n",
    "print(α+α,2*α,3*α)\n",
    "print(FN(α+α),FN(2*α),FN(3*α))\n",
    "print(α^2)\n",
    "print(C(α^2))\n",
    "print(f\"α^3={C(α^3)}\")"
   ]
  },
  {
   "attachments": {},
   "cell_type": "markdown",
   "metadata": {},
   "source": [
    "The parser understands alpha notation, with the caveat that there is no easy way to achieve super and sub-scripts in Python. Therefore, a trailing integer is taken as the alpha subscript, and caret notation is used for the superscript/exponentiation. The use of an actual variable alpha assigned the appropriate value allows computations to be entered directly in Python, but note that the order of the output may be altered, as no sorting is done."
   ]
  },
  {
   "cell_type": "code",
   "execution_count": 14,
   "metadata": {},
   "outputs": [
    {
     "name": "stdout",
     "output_type": "stream",
     "text": [
      "[[[]][][]]\n",
      "[[[]][][]]\n",
      "[3x1 2x0 2 4x3] [2x0 3x1 2 4x3]\n",
      "α0α1^2 + α2^3α4 + 2α5^3\n",
      "[[[][[]][[]]][[[][]][[][]][[][]][[][][][]]][[[][][][][]][[][][][][]][[][][][][]]][[[][][][][]][[][][][][]][[][][][][]]]]\n",
      "[[0[0][0]][[00][00][00][0000]][[00000][00000][00000]][[00000][00000][00000]]]\n",
      "[[0 1 1] [2 2 2 4] [5 5 5] [5 5 5]]\n",
      "[[0 2x1] [3x2 4] 2x[3x5]]\n"
     ]
    }
   ],
   "source": [
    "α = MSet(MSet(MSet()))\n",
    "print(2+α)\n",
    "print(α+2)\n",
    "a = 2+(3*α)+(α^2)+(4*α^3)\n",
    "b = MS(\"2\") + MS(\"3α\") + MS(\"α^2\") + MS(\"4α^3\")\n",
    "print(C(a),C(b))\n",
    "\n",
    "print(\"α0α1^2 + α2^3α4 + 2α5^3\")\n",
    "print(MS(\"α0\")*MS(\"α1^2\") + MS(\"α2^3\")*MS(\"α4\") + MS(\"2α5^3\"))\n",
    "print(FZ(MS(\"α0\")*MS(\"α1^2\") + MS(\"α2^3\")*MS(\"α4\") + MS(\"2α5^3\")))\n",
    "print(FN(MS(\"α0\")*MS(\"α1^2\") + MS(\"α2^3\")*MS(\"α4\") + MS(\"2α5^3\")))\n",
    "print(C(MS(\"α0\")*MS(\"α1^2\") + MS(\"α2^3\")*MS(\"α4\") + MS(\"2α5^3\")))\n"
   ]
  }
 ],
 "metadata": {
  "kernelspec": {
   "display_name": "Python 3",
   "language": "python",
   "name": "python3"
  },
  "language_info": {
   "codemirror_mode": {
    "name": "ipython",
    "version": 3
   },
   "file_extension": ".py",
   "mimetype": "text/x-python",
   "name": "python",
   "nbconvert_exporter": "python",
   "pygments_lexer": "ipython3",
   "version": "3.10.6"
  },
  "orig_nbformat": 4,
  "vscode": {
   "interpreter": {
    "hash": "916dbcbb3f70747c44a77c7bcd40155683ae19c65e1c03b4aa3499c5328201f1"
   }
  }
 },
 "nbformat": 4,
 "nbformat_minor": 2
}
